{
 "cells": [
  {
   "cell_type": "markdown",
   "metadata": {},
   "source": [
    "\n",
    "# Fake Website Detection using Machine Learning"
   ]
  },
  {
   "cell_type": "markdown",
   "metadata": {},
   "source": [
    "## Step 1: Data Preprocessing"
   ]
  },
  {
   "cell_type": "markdown",
   "metadata": {},
   "source": [
    "### 1. Import Dataset"
   ]
  },
  {
   "cell_type": "code",
   "execution_count": 366,
   "metadata": {},
   "outputs": [],
   "source": [
    "import pandas as pd"
   ]
  },
  {
   "cell_type": "code",
   "execution_count": 367,
   "metadata": {},
   "outputs": [],
   "source": [
    "data = pd.read_csv('./combined_dataset.csv')"
   ]
  },
  {
   "cell_type": "markdown",
   "metadata": {},
   "source": [
    "### About Dataset\n",
    "\n",
    "* Domain: The URL itself.\n",
    "* Ranking: Page Ranking\n",
    "* isIp: Is there an IP address in the weblink\n",
    "* valid: This data is fetched from google's whois API that tells us more about the current\n",
    "    status of the URL's registration.\n",
    "* activeDuration: Also from whois API. Gives the duration of the time since the\n",
    "    registration up until now.\n",
    "* urlLen: It is simply the length of the URL\n",
    "* is@: If the link has a '@' character then it's value = 1\n",
    "* isredirect: If the link has double dashes, there is a chance that it is a redirect. 1->    multiple\n",
    "dashes present together.\n",
    "* haveDash: If there are any dashes in the domain name.\n",
    "* domainLen: The length of just the domain name.\n",
    "* noOfSubdomain: The number of subdomains preset in the URL.\n",
    "* Labels: 0 -> Legitimate website , 1 -> Phishing Link/ Spam Link"
   ]
  },
  {
   "cell_type": "code",
   "execution_count": 368,
   "metadata": {},
   "outputs": [
    {
     "name": "stdout",
     "output_type": "stream",
     "text": [
      "Index(['domain', 'ranking', 'isIp', 'valid', 'activeDuration', 'urlLen', 'is@',\n",
      "       'isredirect', 'haveDash', 'domainLen', 'nosOfSubdomain', 'label'],\n",
      "      dtype='object')\n"
     ]
    }
   ],
   "source": [
    "# List all columns\n",
    "columns = data.columns\n",
    "print(columns)"
   ]
  },
  {
   "cell_type": "code",
   "execution_count": 369,
   "metadata": {},
   "outputs": [
    {
     "data": {
      "text/html": [
       "<div>\n",
       "<style scoped>\n",
       "    .dataframe tbody tr th:only-of-type {\n",
       "        vertical-align: middle;\n",
       "    }\n",
       "\n",
       "    .dataframe tbody tr th {\n",
       "        vertical-align: top;\n",
       "    }\n",
       "\n",
       "    .dataframe thead th {\n",
       "        text-align: right;\n",
       "    }\n",
       "</style>\n",
       "<table border=\"1\" class=\"dataframe\">\n",
       "  <thead>\n",
       "    <tr style=\"text-align: right;\">\n",
       "      <th></th>\n",
       "      <th>domain</th>\n",
       "      <th>ranking</th>\n",
       "      <th>isIp</th>\n",
       "      <th>valid</th>\n",
       "      <th>activeDuration</th>\n",
       "      <th>urlLen</th>\n",
       "      <th>is@</th>\n",
       "      <th>isredirect</th>\n",
       "      <th>haveDash</th>\n",
       "      <th>domainLen</th>\n",
       "      <th>nosOfSubdomain</th>\n",
       "      <th>label</th>\n",
       "    </tr>\n",
       "  </thead>\n",
       "  <tbody>\n",
       "    <tr>\n",
       "      <th>0</th>\n",
       "      <td>www.voting-yahoo.com</td>\n",
       "      <td>10000000</td>\n",
       "      <td>0</td>\n",
       "      <td>0</td>\n",
       "      <td>0</td>\n",
       "      <td>20</td>\n",
       "      <td>0</td>\n",
       "      <td>0</td>\n",
       "      <td>1</td>\n",
       "      <td>20</td>\n",
       "      <td>2</td>\n",
       "      <td>1</td>\n",
       "    </tr>\n",
       "    <tr>\n",
       "      <th>1</th>\n",
       "      <td>www.zvon.org/xxl/WSDL1.1/Output/index.html</td>\n",
       "      <td>194914</td>\n",
       "      <td>0</td>\n",
       "      <td>1</td>\n",
       "      <td>7305</td>\n",
       "      <td>42</td>\n",
       "      <td>0</td>\n",
       "      <td>0</td>\n",
       "      <td>0</td>\n",
       "      <td>12</td>\n",
       "      <td>2</td>\n",
       "      <td>0</td>\n",
       "    </tr>\n",
       "    <tr>\n",
       "      <th>2</th>\n",
       "      <td>tecportais.com/file-security-update-infonfmati...</td>\n",
       "      <td>10000000</td>\n",
       "      <td>0</td>\n",
       "      <td>0</td>\n",
       "      <td>0</td>\n",
       "      <td>155</td>\n",
       "      <td>0</td>\n",
       "      <td>0</td>\n",
       "      <td>0</td>\n",
       "      <td>14</td>\n",
       "      <td>1</td>\n",
       "      <td>1</td>\n",
       "    </tr>\n",
       "    <tr>\n",
       "      <th>3</th>\n",
       "      <td>bima.astro.umd.edu/nemo/linuxastro/</td>\n",
       "      <td>7001</td>\n",
       "      <td>0</td>\n",
       "      <td>0</td>\n",
       "      <td>0</td>\n",
       "      <td>35</td>\n",
       "      <td>0</td>\n",
       "      <td>0</td>\n",
       "      <td>0</td>\n",
       "      <td>18</td>\n",
       "      <td>3</td>\n",
       "      <td>0</td>\n",
       "    </tr>\n",
       "    <tr>\n",
       "      <th>4</th>\n",
       "      <td>huarui-tec.com/js/?us.battle.net/login/en/?ref...</td>\n",
       "      <td>10000000</td>\n",
       "      <td>0</td>\n",
       "      <td>1</td>\n",
       "      <td>730</td>\n",
       "      <td>79</td>\n",
       "      <td>0</td>\n",
       "      <td>0</td>\n",
       "      <td>1</td>\n",
       "      <td>14</td>\n",
       "      <td>1</td>\n",
       "      <td>1</td>\n",
       "    </tr>\n",
       "  </tbody>\n",
       "</table>\n",
       "</div>"
      ],
      "text/plain": [
       "                                              domain   ranking  isIp  valid  \\\n",
       "0                               www.voting-yahoo.com  10000000     0      0   \n",
       "1         www.zvon.org/xxl/WSDL1.1/Output/index.html    194914     0      1   \n",
       "2  tecportais.com/file-security-update-infonfmati...  10000000     0      0   \n",
       "3                bima.astro.umd.edu/nemo/linuxastro/      7001     0      0   \n",
       "4  huarui-tec.com/js/?us.battle.net/login/en/?ref...  10000000     0      1   \n",
       "\n",
       "   activeDuration  urlLen  is@  isredirect  haveDash  domainLen  \\\n",
       "0               0      20    0           0         1         20   \n",
       "1            7305      42    0           0         0         12   \n",
       "2               0     155    0           0         0         14   \n",
       "3               0      35    0           0         0         18   \n",
       "4             730      79    0           0         1         14   \n",
       "\n",
       "   nosOfSubdomain  label  \n",
       "0               2      1  \n",
       "1               2      0  \n",
       "2               1      1  \n",
       "3               3      0  \n",
       "4               1      1  "
      ]
     },
     "execution_count": 369,
     "metadata": {},
     "output_type": "execute_result"
    }
   ],
   "source": [
    "data.head()"
   ]
  },
  {
   "cell_type": "code",
   "execution_count": 370,
   "metadata": {},
   "outputs": [
    {
     "data": {
      "text/html": [
       "<div>\n",
       "<style scoped>\n",
       "    .dataframe tbody tr th:only-of-type {\n",
       "        vertical-align: middle;\n",
       "    }\n",
       "\n",
       "    .dataframe tbody tr th {\n",
       "        vertical-align: top;\n",
       "    }\n",
       "\n",
       "    .dataframe thead th {\n",
       "        text-align: right;\n",
       "    }\n",
       "</style>\n",
       "<table border=\"1\" class=\"dataframe\">\n",
       "  <thead>\n",
       "    <tr style=\"text-align: right;\">\n",
       "      <th></th>\n",
       "      <th>ranking</th>\n",
       "      <th>isIp</th>\n",
       "      <th>valid</th>\n",
       "      <th>activeDuration</th>\n",
       "      <th>urlLen</th>\n",
       "      <th>is@</th>\n",
       "      <th>isredirect</th>\n",
       "      <th>haveDash</th>\n",
       "      <th>domainLen</th>\n",
       "      <th>nosOfSubdomain</th>\n",
       "      <th>label</th>\n",
       "    </tr>\n",
       "  </thead>\n",
       "  <tbody>\n",
       "    <tr>\n",
       "      <th>count</th>\n",
       "      <td>9.591000e+04</td>\n",
       "      <td>95910.000000</td>\n",
       "      <td>95910.000000</td>\n",
       "      <td>95910.000000</td>\n",
       "      <td>95910.000000</td>\n",
       "      <td>95910.000000</td>\n",
       "      <td>95910.000000</td>\n",
       "      <td>95910.000000</td>\n",
       "      <td>95910.000000</td>\n",
       "      <td>95910.000000</td>\n",
       "      <td>95910.000000</td>\n",
       "    </tr>\n",
       "    <tr>\n",
       "      <th>mean</th>\n",
       "      <td>6.118618e+06</td>\n",
       "      <td>0.000229</td>\n",
       "      <td>0.573892</td>\n",
       "      <td>3747.876144</td>\n",
       "      <td>69.327442</td>\n",
       "      <td>0.002773</td>\n",
       "      <td>0.007444</td>\n",
       "      <td>0.157856</td>\n",
       "      <td>23.409061</td>\n",
       "      <td>2.387718</td>\n",
       "      <td>0.582984</td>\n",
       "    </tr>\n",
       "    <tr>\n",
       "      <th>std</th>\n",
       "      <td>4.835254e+06</td>\n",
       "      <td>0.015144</td>\n",
       "      <td>0.494512</td>\n",
       "      <td>3974.587188</td>\n",
       "      <td>69.740134</td>\n",
       "      <td>0.052591</td>\n",
       "      <td>0.085960</td>\n",
       "      <td>0.364608</td>\n",
       "      <td>25.426852</td>\n",
       "      <td>2.140997</td>\n",
       "      <td>0.493068</td>\n",
       "    </tr>\n",
       "    <tr>\n",
       "      <th>min</th>\n",
       "      <td>1.000000e+00</td>\n",
       "      <td>0.000000</td>\n",
       "      <td>0.000000</td>\n",
       "      <td>0.000000</td>\n",
       "      <td>9.000000</td>\n",
       "      <td>0.000000</td>\n",
       "      <td>0.000000</td>\n",
       "      <td>0.000000</td>\n",
       "      <td>3.000000</td>\n",
       "      <td>0.000000</td>\n",
       "      <td>0.000000</td>\n",
       "    </tr>\n",
       "    <tr>\n",
       "      <th>25%</th>\n",
       "      <td>3.205600e+04</td>\n",
       "      <td>0.000000</td>\n",
       "      <td>0.000000</td>\n",
       "      <td>0.000000</td>\n",
       "      <td>31.000000</td>\n",
       "      <td>0.000000</td>\n",
       "      <td>0.000000</td>\n",
       "      <td>0.000000</td>\n",
       "      <td>14.000000</td>\n",
       "      <td>2.000000</td>\n",
       "      <td>0.000000</td>\n",
       "    </tr>\n",
       "    <tr>\n",
       "      <th>50%</th>\n",
       "      <td>1.000000e+07</td>\n",
       "      <td>0.000000</td>\n",
       "      <td>1.000000</td>\n",
       "      <td>2192.000000</td>\n",
       "      <td>44.000000</td>\n",
       "      <td>0.000000</td>\n",
       "      <td>0.000000</td>\n",
       "      <td>0.000000</td>\n",
       "      <td>17.000000</td>\n",
       "      <td>2.000000</td>\n",
       "      <td>1.000000</td>\n",
       "    </tr>\n",
       "    <tr>\n",
       "      <th>75%</th>\n",
       "      <td>1.000000e+07</td>\n",
       "      <td>0.000000</td>\n",
       "      <td>1.000000</td>\n",
       "      <td>7670.000000</td>\n",
       "      <td>78.000000</td>\n",
       "      <td>0.000000</td>\n",
       "      <td>0.000000</td>\n",
       "      <td>0.000000</td>\n",
       "      <td>22.000000</td>\n",
       "      <td>2.000000</td>\n",
       "      <td>1.000000</td>\n",
       "    </tr>\n",
       "    <tr>\n",
       "      <th>max</th>\n",
       "      <td>1.000000e+07</td>\n",
       "      <td>1.000000</td>\n",
       "      <td>1.000000</td>\n",
       "      <td>15707.000000</td>\n",
       "      <td>2175.000000</td>\n",
       "      <td>1.000000</td>\n",
       "      <td>1.000000</td>\n",
       "      <td>1.000000</td>\n",
       "      <td>244.000000</td>\n",
       "      <td>34.000000</td>\n",
       "      <td>1.000000</td>\n",
       "    </tr>\n",
       "  </tbody>\n",
       "</table>\n",
       "</div>"
      ],
      "text/plain": [
       "            ranking          isIp         valid  activeDuration        urlLen  \\\n",
       "count  9.591000e+04  95910.000000  95910.000000    95910.000000  95910.000000   \n",
       "mean   6.118618e+06      0.000229      0.573892     3747.876144     69.327442   \n",
       "std    4.835254e+06      0.015144      0.494512     3974.587188     69.740134   \n",
       "min    1.000000e+00      0.000000      0.000000        0.000000      9.000000   \n",
       "25%    3.205600e+04      0.000000      0.000000        0.000000     31.000000   \n",
       "50%    1.000000e+07      0.000000      1.000000     2192.000000     44.000000   \n",
       "75%    1.000000e+07      0.000000      1.000000     7670.000000     78.000000   \n",
       "max    1.000000e+07      1.000000      1.000000    15707.000000   2175.000000   \n",
       "\n",
       "                is@    isredirect      haveDash     domainLen  nosOfSubdomain  \\\n",
       "count  95910.000000  95910.000000  95910.000000  95910.000000    95910.000000   \n",
       "mean       0.002773      0.007444      0.157856     23.409061        2.387718   \n",
       "std        0.052591      0.085960      0.364608     25.426852        2.140997   \n",
       "min        0.000000      0.000000      0.000000      3.000000        0.000000   \n",
       "25%        0.000000      0.000000      0.000000     14.000000        2.000000   \n",
       "50%        0.000000      0.000000      0.000000     17.000000        2.000000   \n",
       "75%        0.000000      0.000000      0.000000     22.000000        2.000000   \n",
       "max        1.000000      1.000000      1.000000    244.000000       34.000000   \n",
       "\n",
       "              label  \n",
       "count  95910.000000  \n",
       "mean       0.582984  \n",
       "std        0.493068  \n",
       "min        0.000000  \n",
       "25%        0.000000  \n",
       "50%        1.000000  \n",
       "75%        1.000000  \n",
       "max        1.000000  "
      ]
     },
     "execution_count": 370,
     "metadata": {},
     "output_type": "execute_result"
    }
   ],
   "source": [
    "data.describe()"
   ]
  },
  {
   "cell_type": "markdown",
   "metadata": {},
   "source": [
    "### 2. Handle Missing Values"
   ]
  },
  {
   "cell_type": "code",
   "execution_count": 371,
   "metadata": {},
   "outputs": [
    {
     "name": "stdout",
     "output_type": "stream",
     "text": [
      "domain            0\n",
      "ranking           0\n",
      "isIp              0\n",
      "valid             0\n",
      "activeDuration    0\n",
      "urlLen            0\n",
      "is@               0\n",
      "isredirect        0\n",
      "haveDash          0\n",
      "domainLen         0\n",
      "nosOfSubdomain    0\n",
      "label             0\n",
      "dtype: int64\n"
     ]
    }
   ],
   "source": [
    "print(data.isnull().sum())"
   ]
  },
  {
   "cell_type": "markdown",
   "metadata": {},
   "source": [
    "Handling null values is not required as no null values are present in the dataset"
   ]
  },
  {
   "cell_type": "markdown",
   "metadata": {},
   "source": [
    "### 3. Encode the categorical data"
   ]
  },
  {
   "cell_type": "code",
   "execution_count": 372,
   "metadata": {},
   "outputs": [
    {
     "name": "stdout",
     "output_type": "stream",
     "text": [
      "isIp: [0 1]\n",
      "valid: [0 1]\n",
      "is@: [0 1]\n",
      "isredirect: [0 1]\n",
      "haveDash: [1 0]\n",
      "label: [1 0]\n"
     ]
    }
   ],
   "source": [
    "categorical_columns = ['isIp', 'valid', 'is@', 'isredirect', 'haveDash','label']\n",
    "\n",
    "# loop through categorical columns and print unique values with column name\n",
    "for column in categorical_columns:\n",
    "    unique_values = data[column].unique()\n",
    "    print(f'{column}: {unique_values}')\n"
   ]
  },
  {
   "cell_type": "markdown",
   "metadata": {},
   "source": [
    "Encoding is not required as categoriacal data is already encoded"
   ]
  },
  {
   "cell_type": "markdown",
   "metadata": {},
   "source": [
    "## Step 2: Feature Engineering"
   ]
  },
  {
   "cell_type": "markdown",
   "metadata": {},
   "source": [
    "### 1. Feature Scaling"
   ]
  },
  {
   "cell_type": "code",
   "execution_count": 373,
   "metadata": {},
   "outputs": [
    {
     "name": "stdout",
     "output_type": "stream",
     "text": [
      "                                              domain   ranking  isIp  valid  \\\n",
      "0                               www.voting-yahoo.com  1.000000     0      0   \n",
      "1         www.zvon.org/xxl/WSDL1.1/Output/index.html  0.019491     0      1   \n",
      "2  tecportais.com/file-security-update-infonfmati...  1.000000     0      0   \n",
      "3                bima.astro.umd.edu/nemo/linuxastro/  0.000700     0      0   \n",
      "4  huarui-tec.com/js/?us.battle.net/login/en/?ref...  1.000000     0      1   \n",
      "\n",
      "   activeDuration    urlLen  is@  isredirect  haveDash  domainLen  \\\n",
      "0        0.000000  0.005078    0           0         1   0.070539   \n",
      "1        0.465079  0.015235    0           0         0   0.037344   \n",
      "2        0.000000  0.067405    0           0         0   0.045643   \n",
      "3        0.000000  0.012004    0           0         0   0.062241   \n",
      "4        0.046476  0.032318    0           0         1   0.045643   \n",
      "\n",
      "   nosOfSubdomain  label  \n",
      "0        0.058824      1  \n",
      "1        0.058824      0  \n",
      "2        0.029412      1  \n",
      "3        0.088235      0  \n",
      "4        0.029412      1  \n"
     ]
    }
   ],
   "source": [
    "from sklearn.preprocessing import MinMaxScaler\n",
    "\n",
    "scales_column = ['ranking', 'activeDuration', 'urlLen', 'domainLen', 'nosOfSubdomain']\n",
    "\n",
    "# loop through scales_column and apply MinMaxScaler to it\n",
    "\n",
    "for column in scales_column:\n",
    "    scaler = MinMaxScaler()\n",
    "    data[column] = scaler.fit_transform(data[[column]])\n",
    "\n",
    "# # Separate the feature to be scaled and the target variable\n",
    "# X = data[['ranking']]\n",
    "# y = data['label']\n",
    "\n",
    "# # Create a MinMaxScaler object\n",
    "# scaler = MinMaxScaler()\n",
    "\n",
    "# # Fit the scaler to the training data\n",
    "# scaler.fit(X)\n",
    "\n",
    "# # Transform the feature using the fitted scaler\n",
    "# X_scaled = scaler.transform(X)\n",
    "\n",
    "# # Combine the scaled feature with the target variable\n",
    "# X_scaled = pd.DataFrame(X_scaled, columns=['ranking'])\n",
    "# data_scaled = pd.concat([X_scaled, y], axis=1)\n",
    "\n",
    "print(data.head())"
   ]
  },
  {
   "cell_type": "markdown",
   "metadata": {},
   "source": [
    "### 1. Feature Selection"
   ]
  },
  {
   "cell_type": "code",
   "execution_count": 374,
   "metadata": {},
   "outputs": [
    {
     "name": "stdout",
     "output_type": "stream",
     "text": [
      "[ True False False  True False False False False False False]\n"
     ]
    }
   ],
   "source": [
    "from sklearn.feature_selection import SelectKBest, chi2\n",
    "from sklearn.tree import DecisionTreeClassifier\n",
    "# Separate the features and the target variable\n",
    "X = data[['ranking', 'isIp', 'valid', 'activeDuration', 'urlLen', 'is@', 'isredirect', 'haveDash', 'domainLen', 'nosOfSubdomain']]\n",
    "y = data['label']\n",
    "\n",
    "# Create a SelectKBest object using chi2 as the scoring function\n",
    "selector = SelectKBest(chi2, k=2)\n",
    "\n",
    "# Fit the selector to the training data\n",
    "selector.fit(X, y)\n",
    "\n",
    "# Get the selected features\n",
    "selected_features = selector.get_support()\n",
    "\n",
    "# Print the selected features\n",
    "print(selected_features)"
   ]
  },
  {
   "cell_type": "markdown",
   "metadata": {},
   "source": [
    "Feature selection is returning false values for most of the columns. So, we are not using feature selection, will decide the features to be used based on the accuracy of the model."
   ]
  },
  {
   "cell_type": "code",
   "execution_count": 375,
   "metadata": {},
   "outputs": [],
   "source": [
    "X= data.drop(['label', 'domain'], axis=1)\n",
    "Y= data.label"
   ]
  },
  {
   "cell_type": "code",
   "execution_count": 376,
   "metadata": {},
   "outputs": [
    {
     "name": "stdout",
     "output_type": "stream",
     "text": [
      "Training set has 57546 samples.\n",
      "Testing set has 38364 samples.\n"
     ]
    }
   ],
   "source": [
    "from sklearn.model_selection import train_test_split\n",
    "x_train, x_test, y_train, y_test = train_test_split(X,Y,test_size=0.40)\n",
    "print(\"Training set has {} samples.\".format(x_train.shape[0]))\n",
    "print(\"Testing set has {} samples.\".format(x_test.shape[0]))"
   ]
  },
  {
   "cell_type": "markdown",
   "metadata": {},
   "source": [
    "## Step 3: Model Training:"
   ]
  },
  {
   "cell_type": "code",
   "execution_count": 377,
   "metadata": {},
   "outputs": [],
   "source": [
    "from sklearn.linear_model import LogisticRegression  # For Logistic Regression\n",
    "#create logistic regression object\n",
    "LogReg=LogisticRegression()\n",
    "\n",
    "#Train the model using training data \n",
    "LogReg.fit(x_train,y_train)\n",
    "\n",
    "\n",
    "#Test the model using testing data\n",
    "y_pred = LogReg.predict(x_test)"
   ]
  },
  {
   "cell_type": "code",
   "execution_count": 378,
   "metadata": {},
   "outputs": [
    {
     "ename": "NameError",
     "evalue": "name 'f1_score' is not defined",
     "output_type": "error",
     "traceback": [
      "\u001b[0;31m---------------------------------------------------------------------------\u001b[0m",
      "\u001b[0;31mNameError\u001b[0m                                 Traceback (most recent call last)",
      "\u001b[1;32m/Users/nihalsaxena/Documents/FakeWebsiteDetectionExtension/backend/FakeWebsiteDetection.ipynb Cell 26\u001b[0m line \u001b[0;36m1\n\u001b[1;32m     <a href='vscode-notebook-cell:/Users/nihalsaxena/Documents/FakeWebsiteDetectionExtension/backend/FakeWebsiteDetection.ipynb#X44sZmlsZQ%3D%3D?line=11'>12</a>\u001b[0m cm\u001b[39m=\u001b[39mconfusion_matrix(y_test,y_pred_log)\n\u001b[1;32m     <a href='vscode-notebook-cell:/Users/nihalsaxena/Documents/FakeWebsiteDetectionExtension/backend/FakeWebsiteDetection.ipynb#X44sZmlsZQ%3D%3D?line=12'>13</a>\u001b[0m sns\u001b[39m.\u001b[39mheatmap(cm,annot\u001b[39m=\u001b[39m\u001b[39mTrue\u001b[39;00m)\n\u001b[0;32m---> <a href='vscode-notebook-cell:/Users/nihalsaxena/Documents/FakeWebsiteDetectionExtension/backend/FakeWebsiteDetection.ipynb#X44sZmlsZQ%3D%3D?line=13'>14</a>\u001b[0m \u001b[39mprint\u001b[39m(\u001b[39m\"\u001b[39m\u001b[39mf1 score is \u001b[39m\u001b[39m\"\u001b[39m,f1_score(y_test,y_pred_log,average\u001b[39m=\u001b[39m\u001b[39m'\u001b[39m\u001b[39mweighted\u001b[39m\u001b[39m'\u001b[39m))\n\u001b[1;32m     <a href='vscode-notebook-cell:/Users/nihalsaxena/Documents/FakeWebsiteDetectionExtension/backend/FakeWebsiteDetection.ipynb#X44sZmlsZQ%3D%3D?line=14'>15</a>\u001b[0m \u001b[39mprint\u001b[39m(\u001b[39m\"\u001b[39m\u001b[39mmatthews correlation coefficient is \u001b[39m\u001b[39m\"\u001b[39m,matthews_corrcoef(y_test,y_pred_log))\n\u001b[1;32m     <a href='vscode-notebook-cell:/Users/nihalsaxena/Documents/FakeWebsiteDetectionExtension/backend/FakeWebsiteDetection.ipynb#X44sZmlsZQ%3D%3D?line=15'>16</a>\u001b[0m \u001b[39mprint\u001b[39m(\u001b[39m\"\u001b[39m\u001b[39mThe accuracy Logistic Regression on testing data is: \u001b[39m\u001b[39m\"\u001b[39m,\u001b[39m100.0\u001b[39m \u001b[39m*\u001b[39maccuracy_score(y_test,y_pred_log))\n",
      "\u001b[0;31mNameError\u001b[0m: name 'f1_score' is not defined"
     ]
    },
    {
     "data": {
      "image/png": "[encoded data removed]",
      "text/plain": [
       "<Figure size 640x480 with 2 Axes>"
      ]
     },
     "metadata": {},
     "output_type": "display_data"
    }
   ],
   "source": [
    "from sklearn.metrics import confusion_matrix, f1_score\n",
    "import seaborn as sns\n",
    "\n",
    "LogReg1=LogisticRegression(random_state= 0, multi_class='multinomial' , solver='newton-cg')\n",
    "#Train the model using training data \n",
    "LogReg1.fit(x_train,y_train)\n",
    "\n",
    "\n",
    "#Test the model using testing data\n",
    "y_pred_log = LogReg1.predict(x_test)\n",
    "\n",
    "cm=confusion_matrix(y_test,y_pred_log)\n",
    "sns.heatmap(cm,annot=True)\n",
    "print(\"f1 score is \",f1_score(y_test,y_pred_log,average='weighted'))\n",
    "print(\"matthews correlation coefficient is \",matthews_corrcoef(y_test,y_pred_log))\n",
    "print(\"The accuracy Logistic Regression on testing data is: \",100.0 *accuracy_score(y_test,y_pred_log))"
   ]
  },
  {
   "cell_type": "code",
   "execution_count": null,
   "metadata": {},
   "outputs": [],
   "source": []
  }
 ],
 "metadata": {
  "kernelspec": {
   "display_name": "Python 3",
   "language": "python",
   "name": "python3"
  },
  "language_info": {
   "codemirror_mode": {
    "name": "ipython",
    "version": 3
   },
   "file_extension": ".py",
   "mimetype": "text/x-python",
   "name": "python",
   "nbconvert_exporter": "python",
   "pygments_lexer": "ipython3",
   "version": "3.11.5"
  }
 },
 "nbformat": 4,
 "nbformat_minor": 2
}
