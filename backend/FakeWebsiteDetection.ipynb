{
 "cells": [
  {
   "cell_type": "markdown",
   "metadata": {},
   "source": [
    "\n",
    "# Fake Website Detection using Machine Learning"
   ]
  },
  {
   "cell_type": "markdown",
   "metadata": {},
   "source": [
    "## Step 1: Data Preprocessing"
   ]
  },
  {
   "cell_type": "markdown",
   "metadata": {},
   "source": [
    "### 1. Import Dataset"
   ]
  },
  {
   "cell_type": "code",
   "execution_count": 151,
   "metadata": {},
   "outputs": [],
   "source": [
    "import pandas as pd"
   ]
  },
  {
   "cell_type": "code",
   "execution_count": 152,
   "metadata": {},
   "outputs": [],
   "source": [
    "data = pd.read_csv('./combined_dataset.csv')"
   ]
  },
  {
   "cell_type": "markdown",
   "metadata": {},
   "source": [
    "### About Dataset\n",
    "\n",
    "* Domain: The URL itself.\n",
    "* Ranking: Page Ranking\n",
    "* isIp: Is there an IP address in the weblink\n",
    "* valid: This data is fetched from google's whois API that tells us more about the current\n",
    "    status of the URL's registration.\n",
    "* activeDuration: Also from whois API. Gives the duration of the time since the\n",
    "    registration up until now.\n",
    "* urlLen: It is simply the length of the URL\n",
    "* is@: If the link has a '@' character then it's value = 1\n",
    "* isredirect: If the link has double dashes, there is a chance that it is a redirect. 1->    multiple\n",
    "dashes present together.\n",
    "* haveDash: If there are any dashes in the domain name.\n",
    "* domainLen: The length of just the domain name.\n",
    "* noOfSubdomain: The number of subdomains preset in the URL.\n",
    "* Labels: 0 -> Legitimate website , 1 -> Phishing Link/ Spam Link"
   ]
  },
  {
   "cell_type": "code",
   "execution_count": 153,
   "metadata": {},
   "outputs": [
    {
     "name": "stdout",
     "output_type": "stream",
     "text": [
      "Index(['domain', 'ranking', 'isIp', 'valid', 'activeDuration', 'urlLen', 'is@',\n",
      "       'isredirect', 'haveDash', 'domainLen', 'nosOfSubdomain', 'label'],\n",
      "      dtype='object')\n"
     ]
    }
   ],
   "source": [
    "# List all columns\n",
    "columns = data.columns\n",
    "print(columns)"
   ]
  },
  {
   "cell_type": "code",
   "execution_count": 154,
   "metadata": {},
   "outputs": [
    {
     "data": {
      "text/html": [
       "<div>\n",
       "<style scoped>\n",
       "    .dataframe tbody tr th:only-of-type {\n",
       "        vertical-align: middle;\n",
       "    }\n",
       "\n",
       "    .dataframe tbody tr th {\n",
       "        vertical-align: top;\n",
       "    }\n",
       "\n",
       "    .dataframe thead th {\n",
       "        text-align: right;\n",
       "    }\n",
       "</style>\n",
       "<table border=\"1\" class=\"dataframe\">\n",
       "  <thead>\n",
       "    <tr style=\"text-align: right;\">\n",
       "      <th></th>\n",
       "      <th>domain</th>\n",
       "      <th>ranking</th>\n",
       "      <th>isIp</th>\n",
       "      <th>valid</th>\n",
       "      <th>activeDuration</th>\n",
       "      <th>urlLen</th>\n",
       "      <th>is@</th>\n",
       "      <th>isredirect</th>\n",
       "      <th>haveDash</th>\n",
       "      <th>domainLen</th>\n",
       "      <th>nosOfSubdomain</th>\n",
       "      <th>label</th>\n",
       "    </tr>\n",
       "  </thead>\n",
       "  <tbody>\n",
       "    <tr>\n",
       "      <th>0</th>\n",
       "      <td>www.voting-yahoo.com</td>\n",
       "      <td>10000000</td>\n",
       "      <td>0</td>\n",
       "      <td>0</td>\n",
       "      <td>0</td>\n",
       "      <td>20</td>\n",
       "      <td>0</td>\n",
       "      <td>0</td>\n",
       "      <td>1</td>\n",
       "      <td>20</td>\n",
       "      <td>2</td>\n",
       "      <td>1</td>\n",
       "    </tr>\n",
       "    <tr>\n",
       "      <th>1</th>\n",
       "      <td>www.zvon.org/xxl/WSDL1.1/Output/index.html</td>\n",
       "      <td>194914</td>\n",
       "      <td>0</td>\n",
       "      <td>1</td>\n",
       "      <td>7305</td>\n",
       "      <td>42</td>\n",
       "      <td>0</td>\n",
       "      <td>0</td>\n",
       "      <td>0</td>\n",
       "      <td>12</td>\n",
       "      <td>2</td>\n",
       "      <td>0</td>\n",
       "    </tr>\n",
       "    <tr>\n",
       "      <th>2</th>\n",
       "      <td>tecportais.com/file-security-update-infonfmati...</td>\n",
       "      <td>10000000</td>\n",
       "      <td>0</td>\n",
       "      <td>0</td>\n",
       "      <td>0</td>\n",
       "      <td>155</td>\n",
       "      <td>0</td>\n",
       "      <td>0</td>\n",
       "      <td>0</td>\n",
       "      <td>14</td>\n",
       "      <td>1</td>\n",
       "      <td>1</td>\n",
       "    </tr>\n",
       "    <tr>\n",
       "      <th>3</th>\n",
       "      <td>bima.astro.umd.edu/nemo/linuxastro/</td>\n",
       "      <td>7001</td>\n",
       "      <td>0</td>\n",
       "      <td>0</td>\n",
       "      <td>0</td>\n",
       "      <td>35</td>\n",
       "      <td>0</td>\n",
       "      <td>0</td>\n",
       "      <td>0</td>\n",
       "      <td>18</td>\n",
       "      <td>3</td>\n",
       "      <td>0</td>\n",
       "    </tr>\n",
       "    <tr>\n",
       "      <th>4</th>\n",
       "      <td>huarui-tec.com/js/?us.battle.net/login/en/?ref...</td>\n",
       "      <td>10000000</td>\n",
       "      <td>0</td>\n",
       "      <td>1</td>\n",
       "      <td>730</td>\n",
       "      <td>79</td>\n",
       "      <td>0</td>\n",
       "      <td>0</td>\n",
       "      <td>1</td>\n",
       "      <td>14</td>\n",
       "      <td>1</td>\n",
       "      <td>1</td>\n",
       "    </tr>\n",
       "  </tbody>\n",
       "</table>\n",
       "</div>"
      ],
      "text/plain": [
       "                                              domain   ranking  isIp  valid  \\\n",
       "0                               www.voting-yahoo.com  10000000     0      0   \n",
       "1         www.zvon.org/xxl/WSDL1.1/Output/index.html    194914     0      1   \n",
       "2  tecportais.com/file-security-update-infonfmati...  10000000     0      0   \n",
       "3                bima.astro.umd.edu/nemo/linuxastro/      7001     0      0   \n",
       "4  huarui-tec.com/js/?us.battle.net/login/en/?ref...  10000000     0      1   \n",
       "\n",
       "   activeDuration  urlLen  is@  isredirect  haveDash  domainLen  \\\n",
       "0               0      20    0           0         1         20   \n",
       "1            7305      42    0           0         0         12   \n",
       "2               0     155    0           0         0         14   \n",
       "3               0      35    0           0         0         18   \n",
       "4             730      79    0           0         1         14   \n",
       "\n",
       "   nosOfSubdomain  label  \n",
       "0               2      1  \n",
       "1               2      0  \n",
       "2               1      1  \n",
       "3               3      0  \n",
       "4               1      1  "
      ]
     },
     "execution_count": 154,
     "metadata": {},
     "output_type": "execute_result"
    }
   ],
   "source": [
    "data.head()"
   ]
  },
  {
   "cell_type": "code",
   "execution_count": 155,
   "metadata": {},
   "outputs": [
    {
     "data": {
      "text/html": [
       "<div>\n",
       "<style scoped>\n",
       "    .dataframe tbody tr th:only-of-type {\n",
       "        vertical-align: middle;\n",
       "    }\n",
       "\n",
       "    .dataframe tbody tr th {\n",
       "        vertical-align: top;\n",
       "    }\n",
       "\n",
       "    .dataframe thead th {\n",
       "        text-align: right;\n",
       "    }\n",
       "</style>\n",
       "<table border=\"1\" class=\"dataframe\">\n",
       "  <thead>\n",
       "    <tr style=\"text-align: right;\">\n",
       "      <th></th>\n",
       "      <th>ranking</th>\n",
       "      <th>isIp</th>\n",
       "      <th>valid</th>\n",
       "      <th>activeDuration</th>\n",
       "      <th>urlLen</th>\n",
       "      <th>is@</th>\n",
       "      <th>isredirect</th>\n",
       "      <th>haveDash</th>\n",
       "      <th>domainLen</th>\n",
       "      <th>nosOfSubdomain</th>\n",
       "      <th>label</th>\n",
       "    </tr>\n",
       "  </thead>\n",
       "  <tbody>\n",
       "    <tr>\n",
       "      <th>count</th>\n",
       "      <td>9.591000e+04</td>\n",
       "      <td>95910.000000</td>\n",
       "      <td>95910.000000</td>\n",
       "      <td>95910.000000</td>\n",
       "      <td>95910.000000</td>\n",
       "      <td>95910.000000</td>\n",
       "      <td>95910.000000</td>\n",
       "      <td>95910.000000</td>\n",
       "      <td>95910.000000</td>\n",
       "      <td>95910.000000</td>\n",
       "      <td>95910.000000</td>\n",
       "    </tr>\n",
       "    <tr>\n",
       "      <th>mean</th>\n",
       "      <td>6.118618e+06</td>\n",
       "      <td>0.000229</td>\n",
       "      <td>0.573892</td>\n",
       "      <td>3747.876144</td>\n",
       "      <td>69.327442</td>\n",
       "      <td>0.002773</td>\n",
       "      <td>0.007444</td>\n",
       "      <td>0.157856</td>\n",
       "      <td>23.409061</td>\n",
       "      <td>2.387718</td>\n",
       "      <td>0.582984</td>\n",
       "    </tr>\n",
       "    <tr>\n",
       "      <th>std</th>\n",
       "      <td>4.835254e+06</td>\n",
       "      <td>0.015144</td>\n",
       "      <td>0.494512</td>\n",
       "      <td>3974.587188</td>\n",
       "      <td>69.740134</td>\n",
       "      <td>0.052591</td>\n",
       "      <td>0.085960</td>\n",
       "      <td>0.364608</td>\n",
       "      <td>25.426852</td>\n",
       "      <td>2.140997</td>\n",
       "      <td>0.493068</td>\n",
       "    </tr>\n",
       "    <tr>\n",
       "      <th>min</th>\n",
       "      <td>1.000000e+00</td>\n",
       "      <td>0.000000</td>\n",
       "      <td>0.000000</td>\n",
       "      <td>0.000000</td>\n",
       "      <td>9.000000</td>\n",
       "      <td>0.000000</td>\n",
       "      <td>0.000000</td>\n",
       "      <td>0.000000</td>\n",
       "      <td>3.000000</td>\n",
       "      <td>0.000000</td>\n",
       "      <td>0.000000</td>\n",
       "    </tr>\n",
       "    <tr>\n",
       "      <th>25%</th>\n",
       "      <td>3.205600e+04</td>\n",
       "      <td>0.000000</td>\n",
       "      <td>0.000000</td>\n",
       "      <td>0.000000</td>\n",
       "      <td>31.000000</td>\n",
       "      <td>0.000000</td>\n",
       "      <td>0.000000</td>\n",
       "      <td>0.000000</td>\n",
       "      <td>14.000000</td>\n",
       "      <td>2.000000</td>\n",
       "      <td>0.000000</td>\n",
       "    </tr>\n",
       "    <tr>\n",
       "      <th>50%</th>\n",
       "      <td>1.000000e+07</td>\n",
       "      <td>0.000000</td>\n",
       "      <td>1.000000</td>\n",
       "      <td>2192.000000</td>\n",
       "      <td>44.000000</td>\n",
       "      <td>0.000000</td>\n",
       "      <td>0.000000</td>\n",
       "      <td>0.000000</td>\n",
       "      <td>17.000000</td>\n",
       "      <td>2.000000</td>\n",
       "      <td>1.000000</td>\n",
       "    </tr>\n",
       "    <tr>\n",
       "      <th>75%</th>\n",
       "      <td>1.000000e+07</td>\n",
       "      <td>0.000000</td>\n",
       "      <td>1.000000</td>\n",
       "      <td>7670.000000</td>\n",
       "      <td>78.000000</td>\n",
       "      <td>0.000000</td>\n",
       "      <td>0.000000</td>\n",
       "      <td>0.000000</td>\n",
       "      <td>22.000000</td>\n",
       "      <td>2.000000</td>\n",
       "      <td>1.000000</td>\n",
       "    </tr>\n",
       "    <tr>\n",
       "      <th>max</th>\n",
       "      <td>1.000000e+07</td>\n",
       "      <td>1.000000</td>\n",
       "      <td>1.000000</td>\n",
       "      <td>15707.000000</td>\n",
       "      <td>2175.000000</td>\n",
       "      <td>1.000000</td>\n",
       "      <td>1.000000</td>\n",
       "      <td>1.000000</td>\n",
       "      <td>244.000000</td>\n",
       "      <td>34.000000</td>\n",
       "      <td>1.000000</td>\n",
       "    </tr>\n",
       "  </tbody>\n",
       "</table>\n",
       "</div>"
      ],
      "text/plain": [
       "            ranking          isIp         valid  activeDuration        urlLen  \\\n",
       "count  9.591000e+04  95910.000000  95910.000000    95910.000000  95910.000000   \n",
       "mean   6.118618e+06      0.000229      0.573892     3747.876144     69.327442   \n",
       "std    4.835254e+06      0.015144      0.494512     3974.587188     69.740134   \n",
       "min    1.000000e+00      0.000000      0.000000        0.000000      9.000000   \n",
       "25%    3.205600e+04      0.000000      0.000000        0.000000     31.000000   \n",
       "50%    1.000000e+07      0.000000      1.000000     2192.000000     44.000000   \n",
       "75%    1.000000e+07      0.000000      1.000000     7670.000000     78.000000   \n",
       "max    1.000000e+07      1.000000      1.000000    15707.000000   2175.000000   \n",
       "\n",
       "                is@    isredirect      haveDash     domainLen  nosOfSubdomain  \\\n",
       "count  95910.000000  95910.000000  95910.000000  95910.000000    95910.000000   \n",
       "mean       0.002773      0.007444      0.157856     23.409061        2.387718   \n",
       "std        0.052591      0.085960      0.364608     25.426852        2.140997   \n",
       "min        0.000000      0.000000      0.000000      3.000000        0.000000   \n",
       "25%        0.000000      0.000000      0.000000     14.000000        2.000000   \n",
       "50%        0.000000      0.000000      0.000000     17.000000        2.000000   \n",
       "75%        0.000000      0.000000      0.000000     22.000000        2.000000   \n",
       "max        1.000000      1.000000      1.000000    244.000000       34.000000   \n",
       "\n",
       "              label  \n",
       "count  95910.000000  \n",
       "mean       0.582984  \n",
       "std        0.493068  \n",
       "min        0.000000  \n",
       "25%        0.000000  \n",
       "50%        1.000000  \n",
       "75%        1.000000  \n",
       "max        1.000000  "
      ]
     },
     "execution_count": 155,
     "metadata": {},
     "output_type": "execute_result"
    }
   ],
   "source": [
    "data.describe()"
   ]
  },
  {
   "cell_type": "markdown",
   "metadata": {},
   "source": [
    "### 2. Handle Missing Values"
   ]
  },
  {
   "cell_type": "code",
   "execution_count": 156,
   "metadata": {},
   "outputs": [
    {
     "name": "stdout",
     "output_type": "stream",
     "text": [
      "domain            0\n",
      "ranking           0\n",
      "isIp              0\n",
      "valid             0\n",
      "activeDuration    0\n",
      "urlLen            0\n",
      "is@               0\n",
      "isredirect        0\n",
      "haveDash          0\n",
      "domainLen         0\n",
      "nosOfSubdomain    0\n",
      "label             0\n",
      "dtype: int64\n"
     ]
    }
   ],
   "source": [
    "print(data.isnull().sum())"
   ]
  },
  {
   "cell_type": "markdown",
   "metadata": {},
   "source": [
    "Handling null values is not required as no null values are present in the dataset"
   ]
  },
  {
   "cell_type": "markdown",
   "metadata": {},
   "source": [
    "### 3. Encode the categorical data"
   ]
  },
  {
   "cell_type": "code",
   "execution_count": 157,
   "metadata": {},
   "outputs": [
    {
     "name": "stdout",
     "output_type": "stream",
     "text": [
      "isIp: [0 1]\n",
      "valid: [0 1]\n",
      "is@: [0 1]\n",
      "isredirect: [0 1]\n",
      "haveDash: [1 0]\n",
      "label: [1 0]\n"
     ]
    }
   ],
   "source": [
    "categorical_columns = ['isIp', 'valid', 'is@', 'isredirect', 'haveDash','label']\n",
    "\n",
    "# loop through categorical columns and print unique values with column name\n",
    "for column in categorical_columns:\n",
    "    unique_values = data[column].unique()\n",
    "    print(f'{column}: {unique_values}')\n"
   ]
  },
  {
   "cell_type": "markdown",
   "metadata": {},
   "source": [
    "Encoding is not required as categoriacal data is already encoded"
   ]
  },
  {
   "cell_type": "markdown",
   "metadata": {},
   "source": [
    "## Step 2: Feature Engineering"
   ]
  },
  {
   "cell_type": "markdown",
   "metadata": {},
   "source": [
    "### 1. Feature Scaling"
   ]
  },
  {
   "cell_type": "code",
   "execution_count": 158,
   "metadata": {},
   "outputs": [
    {
     "name": "stdout",
     "output_type": "stream",
     "text": [
      "                                              domain   ranking  isIp  valid  \\\n",
      "0                               www.voting-yahoo.com  1.000000     0      0   \n",
      "1         www.zvon.org/xxl/WSDL1.1/Output/index.html  0.019491     0      1   \n",
      "2  tecportais.com/file-security-update-infonfmati...  1.000000     0      0   \n",
      "3                bima.astro.umd.edu/nemo/linuxastro/  0.000700     0      0   \n",
      "4  huarui-tec.com/js/?us.battle.net/login/en/?ref...  1.000000     0      1   \n",
      "\n",
      "   activeDuration    urlLen  is@  isredirect  haveDash  domainLen  \\\n",
      "0        0.000000  0.005078    0           0         1   0.070539   \n",
      "1        0.465079  0.015235    0           0         0   0.037344   \n",
      "2        0.000000  0.067405    0           0         0   0.045643   \n",
      "3        0.000000  0.012004    0           0         0   0.062241   \n",
      "4        0.046476  0.032318    0           0         1   0.045643   \n",
      "\n",
      "   nosOfSubdomain  label  \n",
      "0        0.058824      1  \n",
      "1        0.058824      0  \n",
      "2        0.029412      1  \n",
      "3        0.088235      0  \n",
      "4        0.029412      1  \n"
     ]
    }
   ],
   "source": [
    "from sklearn.preprocessing import MinMaxScaler\n",
    "\n",
    "scales_column = ['ranking', 'activeDuration', 'urlLen', 'domainLen', 'nosOfSubdomain']\n",
    "\n",
    "# loop through scales_column and apply MinMaxScaler to it\n",
    "\n",
    "for column in scales_column:\n",
    "    scaler = MinMaxScaler()\n",
    "    data[column] = scaler.fit_transform(data[[column]])\n",
    "\n",
    "# # Separate the feature to be scaled and the target variable\n",
    "# X = data[['ranking']]\n",
    "# y = data['label']\n",
    "\n",
    "# # Create a MinMaxScaler object\n",
    "# scaler = MinMaxScaler()\n",
    "\n",
    "# # Fit the scaler to the training data\n",
    "# scaler.fit(X)\n",
    "\n",
    "# # Transform the feature using the fitted scaler\n",
    "# X_scaled = scaler.transform(X)\n",
    "\n",
    "# # Combine the scaled feature with the target variable\n",
    "# X_scaled = pd.DataFrame(X_scaled, columns=['ranking'])\n",
    "# data_scaled = pd.concat([X_scaled, y], axis=1)\n",
    "\n",
    "print(data.head())"
   ]
  },
  {
   "cell_type": "markdown",
   "metadata": {},
   "source": [
    "### 1. Feature Selection"
   ]
  },
  {
   "cell_type": "code",
   "execution_count": 159,
   "metadata": {},
   "outputs": [
    {
     "name": "stdout",
     "output_type": "stream",
     "text": [
      "[ True False False  True False False False False False False]\n"
     ]
    }
   ],
   "source": [
    "from sklearn.feature_selection import SelectKBest, chi2\n",
    "from sklearn.tree import DecisionTreeClassifier\n",
    "# Separate the features and the target variable\n",
    "X = data[['ranking', 'isIp', 'valid', 'activeDuration', 'urlLen', 'is@', 'isredirect', 'haveDash', 'domainLen', 'nosOfSubdomain']]\n",
    "y = data['label']\n",
    "\n",
    "# Create a SelectKBest object using chi2 as the scoring function\n",
    "selector = SelectKBest(chi2, k=2)\n",
    "\n",
    "# Fit the selector to the training data\n",
    "selector.fit(X, y)\n",
    "\n",
    "# Get the selected features\n",
    "selected_features = selector.get_support()\n",
    "\n",
    "# Print the selected features\n",
    "print(selected_features)"
   ]
  },
  {
   "cell_type": "markdown",
   "metadata": {},
   "source": [
    "Feature selection is returning false values for most of the columns. So, we are not using feature selection, will decide the features to be used based on the accuracy of the model."
   ]
  },
  {
   "cell_type": "code",
   "execution_count": 160,
   "metadata": {},
   "outputs": [],
   "source": [
    "X= data.drop(['label', 'domain', 'ranking'], axis=1)\n",
    "Y= data.label"
   ]
  },
  {
   "cell_type": "code",
   "execution_count": 161,
   "metadata": {},
   "outputs": [
    {
     "name": "stdout",
     "output_type": "stream",
     "text": [
      "Training set has 57546 samples.\n",
      "Testing set has 38364 samples.\n"
     ]
    }
   ],
   "source": [
    "from sklearn.model_selection import train_test_split\n",
    "x_train, x_test, y_train, y_test = train_test_split(X,Y,test_size=0.40)\n",
    "print(\"Training set has {} samples.\".format(x_train.shape[0]))\n",
    "print(\"Testing set has {} samples.\".format(x_test.shape[0]))"
   ]
  },
  {
   "cell_type": "code",
   "execution_count": 162,
   "metadata": {},
   "outputs": [
    {
     "name": "stdout",
     "output_type": "stream",
     "text": [
      "Index(['isIp', 'valid', 'activeDuration', 'urlLen', 'is@', 'isredirect',\n",
      "       'haveDash', 'domainLen', 'nosOfSubdomain'],\n",
      "      dtype='object')\n"
     ]
    }
   ],
   "source": [
    "# print the columns of the training set\n",
    "print(x_train.columns)"
   ]
  },
  {
   "cell_type": "markdown",
   "metadata": {},
   "source": [
    "## Step 3: Model Training:"
   ]
  },
  {
   "cell_type": "markdown",
   "metadata": {},
   "source": [
    "### Logistic Regression"
   ]
  },
  {
   "cell_type": "code",
   "execution_count": 163,
   "metadata": {},
   "outputs": [],
   "source": [
    "from sklearn.linear_model import LogisticRegression  # For Logistic Regression\n",
    "#create logistic regression object\n",
    "LogReg=LogisticRegression()\n",
    "\n",
    "#Train the model using training data \n",
    "LogReg.fit(x_train,y_train)\n",
    "\n",
    "\n",
    "#Test the model using testing data\n",
    "y_pred = LogReg.predict(x_test)"
   ]
  },
  {
   "cell_type": "code",
   "execution_count": 164,
   "metadata": {},
   "outputs": [
    {
     "name": "stdout",
     "output_type": "stream",
     "text": [
      "f1 score is  0.8559538660352396\n",
      "matthews correlation coefficient is  0.7034332013383967\n",
      "The accuracy Logistic Regression on testing data is:  85.66364299864456\n"
     ]
    },
    {
     "data": {
      "image/png": "[encoded data removed]",
      "text/plain": [
       "<Figure size 640x480 with 2 Axes>"
      ]
     },
     "metadata": {},
     "output_type": "display_data"
    }
   ],
   "source": [
    "from sklearn.metrics import confusion_matrix, f1_score, matthews_corrcoef, accuracy_score\n",
    "import seaborn as sns\n",
    "\n",
    "LogReg1=LogisticRegression(random_state= 0, multi_class='multinomial' , solver='newton-cg')\n",
    "#Train the model using training data \n",
    "LogReg1.fit(x_train,y_train)\n",
    "\n",
    "\n",
    "#Test the model using testing data\n",
    "y_pred_log = LogReg1.predict(x_test)\n",
    "\n",
    "cm=confusion_matrix(y_test,y_pred_log)\n",
    "sns.heatmap(cm,annot=True)\n",
    "print(\"f1 score is \",f1_score(y_test,y_pred_log,average='weighted'))\n",
    "print(\"matthews correlation coefficient is \",matthews_corrcoef(y_test,y_pred_log))\n",
    "print(\"The accuracy Logistic Regression on testing data is: \",100.0 *accuracy_score(y_test,y_pred_log))"
   ]
  },
  {
   "cell_type": "code",
   "execution_count": 165,
   "metadata": {},
   "outputs": [
    {
     "data": {
      "text/plain": [
       "<matplotlib.legend.Legend at 0x299760850>"
      ]
     },
     "execution_count": 165,
     "metadata": {},
     "output_type": "execute_result"
    },
    {
     "data": {
      "image/png": "[encoded data removed]",
      "text/plain": [
       "<Figure size 640x480 with 1 Axes>"
      ]
     },
     "metadata": {},
     "output_type": "display_data"
    }
   ],
   "source": [
    "from sklearn.metrics import roc_curve\n",
    "import matplotlib.pyplot as plt\n",
    "\n",
    "fpr,tpr,thresh = roc_curve(y_test,y_pred_log)\n",
    "roc_auc = accuracy_score(y_test,y_pred_log)\n",
    "\n",
    "# Plot ROC curve for Logistic Regression\n",
    "plt.plot(fpr,tpr,'orange',label = 'Logistic Regression')\n",
    "plt.legend(\"Logistic Regression\", loc='lower right')\n",
    "plt.xlabel(\"False positive rate\")\n",
    "plt.ylabel(\"True positive rate\")\n",
    "plt.legend(loc='lower right')"
   ]
  },
  {
   "cell_type": "markdown",
   "metadata": {},
   "source": [
    "### Random Forest Classifier"
   ]
  },
  {
   "cell_type": "code",
   "execution_count": 166,
   "metadata": {},
   "outputs": [
    {
     "name": "stdout",
     "output_type": "stream",
     "text": [
      "f1 score is  0.9261363284120003\n",
      "matthews correlation coefficient is  0.8481916600000928\n",
      "The accuracy Random forest classifier on testing data is:  92.60765300802835\n"
     ]
    },
    {
     "data": {
      "image/png": "[encoded data removed]",
      "text/plain": [
       "<Figure size 640x480 with 2 Axes>"
      ]
     },
     "metadata": {},
     "output_type": "display_data"
    }
   ],
   "source": [
    "from sklearn.ensemble import RandomForestClassifier\n",
    "#create RFC object\n",
    "RFClass = RandomForestClassifier()\n",
    "#Train the model using training data \n",
    "RFClass.fit(x_train,y_train)\n",
    "\n",
    "#Test the model using testing data\n",
    "y_pred_rfc = RFClass.predict(x_test)\n",
    "\n",
    "cm=confusion_matrix(y_test,y_pred_rfc)\n",
    "sns.heatmap(cm,annot=True)\n",
    "print(\"f1 score is \",f1_score(y_test,y_pred_rfc,average='weighted'))\n",
    "print(\"matthews correlation coefficient is \",matthews_corrcoef(y_test,y_pred_rfc))\n",
    "print(\"The accuracy Random forest classifier on testing data is: \",100.0 *accuracy_score(y_test,y_pred_rfc))"
   ]
  },
  {
   "cell_type": "code",
   "execution_count": 167,
   "metadata": {},
   "outputs": [
    {
     "name": "stdout",
     "output_type": "stream",
     "text": [
      "Index(['isIp', 'valid', 'activeDuration', 'urlLen', 'is@', 'isredirect',\n",
      "       'haveDash', 'domainLen', 'nosOfSubdomain'],\n",
      "      dtype='object')\n"
     ]
    }
   ],
   "source": [
    "print(x_train.columns)"
   ]
  },
  {
   "cell_type": "code",
   "execution_count": 168,
   "metadata": {},
   "outputs": [
    {
     "data": {
      "text/plain": [
       "<matplotlib.legend.Legend at 0x299841690>"
      ]
     },
     "execution_count": 168,
     "metadata": {},
     "output_type": "execute_result"
    },
    {
     "data": {
      "image/png": "[encoded data removed]",
      "text/plain": [
       "<Figure size 640x480 with 1 Axes>"
      ]
     },
     "metadata": {},
     "output_type": "display_data"
    }
   ],
   "source": [
    "fpr,tpr,thresh = roc_curve(y_test,y_pred_rfc)\n",
    "roc_auc = accuracy_score(y_test,y_pred_rfc)\n",
    "\n",
    "# Plot ROC curve for Logistic Regression\n",
    "plt.plot(fpr,tpr,'orange',label = 'Random Forest Classification')\n",
    "plt.legend(\"Logistic Regression\", loc='lower right')\n",
    "plt.xlabel(\"False positive rate\")\n",
    "plt.ylabel(\"True positive rate\")\n",
    "plt.legend(loc='lower right')"
   ]
  },
  {
   "cell_type": "markdown",
   "metadata": {},
   "source": [
    "### SVM"
   ]
  },
  {
   "cell_type": "code",
   "execution_count": 169,
   "metadata": {},
   "outputs": [
    {
     "name": "stdout",
     "output_type": "stream",
     "text": [
      "f1 score is  0.869474208804154\n",
      "matthews correlation coefficient is  0.7313154504125695\n",
      "The accuracy SVC on testing data is:  86.95391512876655\n"
     ]
    },
    {
     "data": {
      "image/png": "[encoded data removed]",
      "text/plain": [
       "<Figure size 640x480 with 2 Axes>"
      ]
     },
     "metadata": {},
     "output_type": "display_data"
    }
   ],
   "source": [
    "from sklearn.svm import SVC\n",
    "#create SVM object\n",
    "\n",
    "svc = SVC()\n",
    "\n",
    "svc.fit(x_train,y_train)\n",
    "y_pred_svc = svc.predict(x_test)\n",
    "\n",
    "cm=confusion_matrix(y_test,y_pred_svc)\n",
    "sns.heatmap(cm,annot=True)\n",
    "print(\"f1 score is \",f1_score(y_test,y_pred_svc,average='weighted'))\n",
    "print(\"matthews correlation coefficient is \",matthews_corrcoef(y_test,y_pred_svc))\n",
    "print(\"The accuracy SVC on testing data is: \",100.0 *accuracy_score(y_test,y_pred_svc))"
   ]
  },
  {
   "cell_type": "code",
   "execution_count": 170,
   "metadata": {},
   "outputs": [
    {
     "name": "stdout",
     "output_type": "stream",
     "text": [
      "The accuracy Logistic Regression on testing data is:  85.66364299864456\n",
      "The accuracy Random forest classifier on testing data is:  92.60765300802835\n",
      "The accuracy SVC on testing data is:  86.95391512876655\n"
     ]
    }
   ],
   "source": [
    "print(\"The accuracy Logistic Regression on testing data is: \",100.0 *accuracy_score(y_test,y_pred_log))\n",
    "print(\"The accuracy Random forest classifier on testing data is: \",100.0 *accuracy_score(y_test,y_pred_rfc))\n",
    "print(\"The accuracy SVC on testing data is: \",100.0 *accuracy_score(y_test,y_pred_svc))"
   ]
  },
  {
   "cell_type": "markdown",
   "metadata": {},
   "source": [
    "Since the Random Forest Classifier is giving the best accuracy, we will use it for the prediction.\n",
    "\n",
    "Now we will Evaluate the performance of the Random Forest classifier on different datasets"
   ]
  },
  {
   "cell_type": "code",
   "execution_count": 171,
   "metadata": {},
   "outputs": [],
   "source": [
    "# from sklearn.datasets import load_iris\n",
    "# from sklearn.model_selection import train_test_split\n",
    "# from sklearn.ensemble import RandomForestClassifier\n",
    "\n",
    "# from sklearn.metrics import accuracy_score\n",
    "\n",
    "# # Load the Iris dataset\n",
    "# iris = load_iris()\n",
    "\n",
    "# # Split the data into training and testing sets\n",
    "# X, y = iris.data, iris.target\n",
    "# X_train, X_test, y_train, y_test = train_test_split(X, y, test_size=0.3, random_state=42)\n",
    "\n",
    "# # Create a Random Forest classifier\n",
    "# clf = RandomForestClassifier()\n",
    "\n",
    "# # Train the classifier on the training data\n",
    "# clf.fit(X_train, y_train)\n",
    "\n",
    "# # Make predictions on the testing data\n",
    "# y_pred = clf.predict(X_test)\n",
    "\n",
    "# # Evaluate the accuracy of the classifier\n",
    "# accuracy = accuracy_score(y_test, y_pred)\n",
    "# print(\"The accuracy of the Random Forest classifier on the Iris dataset is:\", accuracy)"
   ]
  },
  {
   "cell_type": "code",
   "execution_count": 172,
   "metadata": {},
   "outputs": [
    {
     "name": "stdout",
     "output_type": "stream",
     "text": [
      "       isIp  valid  activeDuration    urlLen  is@  isredirect  haveDash  \\\n",
      "0         0      0        0.000000  0.005078    0           0         1   \n",
      "1         0      1        0.465079  0.015235    0           0         0   \n",
      "2         0      0        0.000000  0.067405    0           0         0   \n",
      "3         0      0        0.000000  0.012004    0           0         0   \n",
      "4         0      1        0.046476  0.032318    0           0         1   \n",
      "...     ...    ...             ...       ...  ...         ...       ...   \n",
      "95905     0      1        0.511555  0.008772    0           0         0   \n",
      "95906     0      1        0.534793  0.017544    0           0         1   \n",
      "95907     0      0        0.000000  0.015697    0           0         0   \n",
      "95908     0      1        0.627873  0.014774    0           0         0   \n",
      "95909     0      0        0.000000  0.144968    0           0         0   \n",
      "\n",
      "       domainLen  nosOfSubdomain  \n",
      "0       0.070539        0.058824  \n",
      "1       0.037344        0.058824  \n",
      "2       0.045643        0.029412  \n",
      "3       0.062241        0.088235  \n",
      "4       0.045643        0.029412  \n",
      "...          ...             ...  \n",
      "95905   0.053942        0.058824  \n",
      "95906   0.099585        0.058824  \n",
      "95907   0.107884        0.088235  \n",
      "95908   0.045643        0.058824  \n",
      "95909   0.053942        0.058824  \n",
      "\n",
      "[95910 rows x 9 columns]\n"
     ]
    }
   ],
   "source": [
    "print(X)"
   ]
  },
  {
   "cell_type": "code",
   "execution_count": 173,
   "metadata": {},
   "outputs": [],
   "source": [
    "import pickle \n",
    "\n",
    "pickle.dump(RFClass, open('random_forest_classifier.pkl', 'wb'))"
   ]
  },
  {
   "cell_type": "code",
   "execution_count": 178,
   "metadata": {},
   "outputs": [
    {
     "name": "stdout",
     "output_type": "stream",
     "text": [
      "URL: https://www.nytimes.com, Prediction: Legitimate\n",
      "URL: https://www.wikipedia.org, Prediction: Legitimate\n",
      "URL: https://www.amazon.com, Prediction: Legitimate\n",
      "URL: https://www.google.com, Prediction: Legitimate\n",
      "URL: https://www.facebook.com, Prediction: Legitimate\n",
      "URL: https://example-phishing1.com, Prediction: Phishing/Spam\n",
      "URL: https://example-spam2.net, Prediction: Phishing/Spam\n",
      "URL: study.oline.com, Prediction: Legitimate\n"
     ]
    }
   ],
   "source": [
    "from feature import FeatureExtractor\n",
    "urls = [\n",
    "    'https://www.nytimes.com',\n",
    "    'https://www.wikipedia.org',\n",
    "    'https://www.amazon.com',\n",
    "    'https://www.google.com',\n",
    "    'https://www.facebook.com',\n",
    "    # ... add more legitimate URLs ...\n",
    "    'https://example-phishing1.com',  # Placeholder for a phishing URL\n",
    "    'https://example-spam2.net',     # Placeholder for a spam URL\n",
    "    'study.oline.com'\n",
    "]\n",
    "# Ensure this list has the URLs you want to test\n",
    "\n",
    "# Store predictions\n",
    "predictions = []\n",
    "\n",
    "for url in urls:\n",
    "    # Predicting from url\n",
    "    extractor = FeatureExtractor(url)\n",
    "    # Extract features from URL\n",
    "    features = extractor.extract()\n",
    "\n",
    "    # Convert features to the format your model expects, e.g., a DataFrame or a numpy array\n",
    "    features_df = pd.DataFrame([features])\n",
    "\n",
    "    # Make prediction\n",
    "    prediction = LogReg1.predict(features_df)\n",
    "\n",
    "    # Append predictions\n",
    "    predictions.append((url, prediction[0]))\n",
    "\n",
    "# Print predictions\n",
    "for url, pred in predictions:\n",
    "    print(f'URL: {url}, Prediction: {\"Legitimate\" if pred == 0 else \"Phishing/Spam\"}')"
   ]
  },
  {
   "cell_type": "code",
   "execution_count": 175,
   "metadata": {},
   "outputs": [
    {
     "name": "stdout",
     "output_type": "stream",
     "text": [
      "9\n"
     ]
    }
   ],
   "source": [
    "print(X.shape[1])\n"
   ]
  },
  {
   "cell_type": "code",
   "execution_count": 176,
   "metadata": {},
   "outputs": [
    {
     "name": "stdout",
     "output_type": "stream",
     "text": [
      "Number of features used for training: 9\n"
     ]
    },
    {
     "data": {
      "text/html": [
       "<style>#sk-container-id-3 {color: black;}#sk-container-id-3 pre{padding: 0;}#sk-container-id-3 div.sk-toggleable {background-color: white;}#sk-container-id-3 label.sk-toggleable__label {cursor: pointer;display: block;width: 100%;margin-bottom: 0;padding: 0.3em;box-sizing: border-box;text-align: center;}#sk-container-id-3 label.sk-toggleable__label-arrow:before {content: \"▸\";float: left;margin-right: 0.25em;color: #696969;}#sk-container-id-3 label.sk-toggleable__label-arrow:hover:before {color: black;}#sk-container-id-3 div.sk-estimator:hover label.sk-toggleable__label-arrow:before {color: black;}#sk-container-id-3 div.sk-toggleable__content {max-height: 0;max-width: 0;overflow: hidden;text-align: left;background-color: #f0f8ff;}#sk-container-id-3 div.sk-toggleable__content pre {margin: 0.2em;color: black;border-radius: 0.25em;background-color: #f0f8ff;}#sk-container-id-3 input.sk-toggleable__control:checked~div.sk-toggleable__content {max-height: 200px;max-width: 100%;overflow: auto;}#sk-container-id-3 input.sk-toggleable__control:checked~label.sk-toggleable__label-arrow:before {content: \"▾\";}#sk-container-id-3 div.sk-estimator input.sk-toggleable__control:checked~label.sk-toggleable__label {background-color: #d4ebff;}#sk-container-id-3 div.sk-label input.sk-toggleable__control:checked~label.sk-toggleable__label {background-color: #d4ebff;}#sk-container-id-3 input.sk-hidden--visually {border: 0;clip: rect(1px 1px 1px 1px);clip: rect(1px, 1px, 1px, 1px);height: 1px;margin: -1px;overflow: hidden;padding: 0;position: absolute;width: 1px;}#sk-container-id-3 div.sk-estimator {font-family: monospace;background-color: #f0f8ff;border: 1px dotted black;border-radius: 0.25em;box-sizing: border-box;margin-bottom: 0.5em;}#sk-container-id-3 div.sk-estimator:hover {background-color: #d4ebff;}#sk-container-id-3 div.sk-parallel-item::after {content: \"\";width: 100%;border-bottom: 1px solid gray;flex-grow: 1;}#sk-container-id-3 div.sk-label:hover label.sk-toggleable__label {background-color: #d4ebff;}#sk-container-id-3 div.sk-serial::before {content: \"\";position: absolute;border-left: 1px solid gray;box-sizing: border-box;top: 0;bottom: 0;left: 50%;z-index: 0;}#sk-container-id-3 div.sk-serial {display: flex;flex-direction: column;align-items: center;background-color: white;padding-right: 0.2em;padding-left: 0.2em;position: relative;}#sk-container-id-3 div.sk-item {position: relative;z-index: 1;}#sk-container-id-3 div.sk-parallel {display: flex;align-items: stretch;justify-content: center;background-color: white;position: relative;}#sk-container-id-3 div.sk-item::before, #sk-container-id-3 div.sk-parallel-item::before {content: \"\";position: absolute;border-left: 1px solid gray;box-sizing: border-box;top: 0;bottom: 0;left: 50%;z-index: -1;}#sk-container-id-3 div.sk-parallel-item {display: flex;flex-direction: column;z-index: 1;position: relative;background-color: white;}#sk-container-id-3 div.sk-parallel-item:first-child::after {align-self: flex-end;width: 50%;}#sk-container-id-3 div.sk-parallel-item:last-child::after {align-self: flex-start;width: 50%;}#sk-container-id-3 div.sk-parallel-item:only-child::after {width: 0;}#sk-container-id-3 div.sk-dashed-wrapped {border: 1px dashed gray;margin: 0 0.4em 0.5em 0.4em;box-sizing: border-box;padding-bottom: 0.4em;background-color: white;}#sk-container-id-3 div.sk-label label {font-family: monospace;font-weight: bold;display: inline-block;line-height: 1.2em;}#sk-container-id-3 div.sk-label-container {text-align: center;}#sk-container-id-3 div.sk-container {/* jupyter's `normalize.less` sets `[hidden] { display: none; }` but bootstrap.min.css set `[hidden] { display: none !important; }` so we also need the `!important` here to be able to override the default hidden behavior on the sphinx rendered scikit-learn.org. See: https://github.com/scikit-learn/scikit-learn/issues/21755 */display: inline-block !important;position: relative;}#sk-container-id-3 div.sk-text-repr-fallback {display: none;}</style><div id=\"sk-container-id-3\" class=\"sk-top-container\"><div class=\"sk-text-repr-fallback\"><pre>RandomForestClassifier()</pre><b>In a Jupyter environment, please rerun this cell to show the HTML representation or trust the notebook. <br />On GitHub, the HTML representation is unable to render, please try loading this page with nbviewer.org.</b></div><div class=\"sk-container\" hidden><div class=\"sk-item\"><div class=\"sk-estimator sk-toggleable\"><input class=\"sk-toggleable__control sk-hidden--visually\" id=\"sk-estimator-id-3\" type=\"checkbox\" checked><label for=\"sk-estimator-id-3\" class=\"sk-toggleable__label sk-toggleable__label-arrow\">RandomForestClassifier</label><div class=\"sk-toggleable__content\"><pre>RandomForestClassifier()</pre></div></div></div></div></div>"
      ],
      "text/plain": [
       "RandomForestClassifier()"
      ]
     },
     "execution_count": 176,
     "metadata": {},
     "output_type": "execute_result"
    }
   ],
   "source": [
    "# Print the number of features used for training\n",
    "print(\"Number of features used for training:\", len(X.columns))\n",
    "\n",
    "# Train the model using training data\n",
    "RFClass.fit(x_train, y_train)\n"
   ]
  }
 ],
 "metadata": {
  "kernelspec": {
   "display_name": "Python 3",
   "language": "python",
   "name": "python3"
  },
  "language_info": {
   "codemirror_mode": {
    "name": "ipython",
    "version": 3
   },
   "file_extension": ".py",
   "mimetype": "text/x-python",
   "name": "python",
   "nbconvert_exporter": "python",
   "pygments_lexer": "ipython3",
   "version": "3.11.5"
  }
 },
 "nbformat": 4,
 "nbformat_minor": 2
}
